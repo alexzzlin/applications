{
 "cells": [
  {
   "cell_type": "code",
   "execution_count": 1,
   "metadata": {},
   "outputs": [],
   "source": [
    "#import libraries\n",
    "import requests\n",
    "from datetime import datetime as dt\n",
    "from datetime import timedelta\n",
    "import pandas as pd"
   ]
  },
  {
   "cell_type": "code",
   "execution_count": 2,
   "metadata": {},
   "outputs": [
    {
     "name": "stdout",
     "output_type": "stream",
     "text": [
      "2021-02-05 23:38:27.447632 <class 'datetime.datetime'>\n",
      "2021-02-05 <class 'str'>\n",
      "https://api.acleddata.com/acled/read?key=PH-oxHF9EF8IavXOxd9v&email=alexzzlin@gmail.com&limit=50 <class 'str'>\n"
     ]
    }
   ],
   "source": [
    "# get events from n days ago\n",
    "look_back_days = 45\n",
    "\n",
    "days_ago_dte = dt.now() - timedelta(days=look_back_days)\n",
    "print (days_ago_dte, type(days_ago_dte)) #gives us a time object\n",
    "days_ago = days_ago_dte.strftime('%Y-%m-%d')\n",
    "print (days_ago, type(days_ago)) #converts the time object to string so it can be based into the request\n",
    "\n",
    "# you can limit the number of records that return from the API\n",
    "# set to 0 for no limit\n",
    "limit = 10\n",
    "\n",
    "# Required registration to get a unique API key in order to access the ACLED API\n",
    "# URL: https://developer.acleddata.com\n",
    "# api_url = 'https://api.acleddata.com/acled/read?terms=accept&event_date={}&event_date_where=%3E=&limit={}'.format(days_ago, limit)\n",
    "#api_url = 'https://api.acleddata.com/acled/read?key={API_KEY}&email={alexzzlin@gmail.com}'\n",
    "#api_url = 'https://api.acleddata.com/acled/read?key=API_KEY&email=alexzzlin@gmail.com'\n",
    "api_url = 'https://api.acleddata.com/acled/read?key=PH-oxHF9EF8IavXOxd9v&email=alexzzlin@gmail.com&limit=50'\n",
    "#api_url = 'https://api.acleddata.com/acled/read?terms=accept&event_date={}&event_date_where=%3E=&limit={}'.format(days_ago, limit)\n",
    "print (api_url, type(api_url)) #creates request according to ACLED format specifications - p. 13"
   ]
  },
  {
   "cell_type": "code",
   "execution_count": 3,
   "metadata": {},
   "outputs": [],
   "source": [
    "#response = requests.get('https://api.acleddata.com/acled/read', headers={ 'Authorization': 'Bearer <your_token>' })\n",
    "#print response.json()"
   ]
  },
  {
   "cell_type": "code",
   "execution_count": 4,
   "metadata": {},
   "outputs": [],
   "source": [
    "response = requests.get(api_url) # Reality I spent 45 minutes figuring out why my search kept failing \n",
    "                                # and learned I had an older user guide that didn't include terms=accept "
   ]
  },
  {
   "cell_type": "code",
   "execution_count": 5,
   "metadata": {},
   "outputs": [],
   "source": [
    "#headers = {'Authorization': 'Bearer {}'.format('PH-oxHF9EF8IavXOxd9v')}\n",
    "#api_url = 'https://api.acleddata.com/acled/read'\n",
    "# 'term': 'coffee', 'location': 'Toronto, Ontario',\n",
    "#params = {'limit': 50, 'key': 'PH-oxHF9EF8IavXOxd9v', 'email': 'alexzzlin@gmail.com'}\n",
    "#response = requests.get(api_url, params=params, timeout=5)"
   ]
  },
  {
   "cell_type": "code",
   "execution_count": 6,
   "metadata": {},
   "outputs": [
    {
     "name": "stdout",
     "output_type": "stream",
     "text": [
      "{'Date': 'Tue, 23 Mar 2021 03:38:31 GMT', 'Server': 'Apache', 'Access-Control-Allow-Origin': '*', 'Access-Control-Allow-Methods': 'GET,POST', 'Access-Control-Max-Age': '3600', 'Access-Control-Allow-Headers': 'Content-Type, Access-Control-Allow-Headers, Authorization, X-Requested-With', 'Content-Encoding': 'gzip', 'Vary': 'Accept-Encoding', 'Upgrade': 'h2,h2c', 'Connection': 'Upgrade, Keep-Alive', 'Keep-Alive': 'timeout=5, max=100', 'Transfer-Encoding': 'chunked', 'Content-Type': 'application/json'}\n"
     ]
    }
   ],
   "source": [
    "print(response.headers)"
   ]
  },
  {
   "cell_type": "code",
   "execution_count": 7,
   "metadata": {},
   "outputs": [
    {
     "name": "stdout",
     "output_type": "stream",
     "text": [
      "https://api.acleddata.com/acled/read?key=PH-oxHF9EF8IavXOxd9v&email=alexzzlin@gmail.com&limit=50\n",
      "200\n"
     ]
    }
   ],
   "source": [
    "print(response.url)\n",
    "print(response.status_code)"
   ]
  },
  {
   "cell_type": "code",
   "execution_count": 8,
   "metadata": {},
   "outputs": [
    {
     "data": {
      "text/plain": [
       "dict_keys(['status', 'success', 'count', 'error'])"
      ]
     },
     "execution_count": 8,
     "metadata": {},
     "output_type": "execute_result"
    }
   ],
   "source": [
    "data = response.json()\n",
    "data.keys()"
   ]
  },
  {
   "cell_type": "code",
   "execution_count": 9,
   "metadata": {},
   "outputs": [
    {
     "data": {
      "text/plain": [
       "(403, False, 0)"
      ]
     },
     "execution_count": 9,
     "metadata": {},
     "output_type": "execute_result"
    }
   ],
   "source": [
    "data['status'], data['success'], data['count'] # see the refrenet for API status codes"
   ]
  },
  {
   "cell_type": "code",
   "execution_count": 10,
   "metadata": {},
   "outputs": [
    {
     "data": {
      "text/plain": [
       "{'status': 403,\n",
       " 'success': False,\n",
       " 'count': 0,\n",
       " 'error': {'status': 403,\n",
       "  'message': 'You have reached your download limit for the year. To download more ACLED data, you can either wait until the start of your yearly cycle (one year from the date you registered) or reach out to the ACLED Access team (access@acleddata.com) to discuss other options.'}}"
      ]
     },
     "execution_count": 10,
     "metadata": {},
     "output_type": "execute_result"
    }
   ],
   "source": [
    "data"
   ]
  },
  {
   "cell_type": "code",
   "execution_count": 11,
   "metadata": {},
   "outputs": [
    {
     "data": {
      "text/plain": [
       "\"\\ndata_new = data['data'] #getting just the data \\nrows = len(data_new)\\nprint ('ACLED API returned {} rows'.format(rows))\\n\""
      ]
     },
     "execution_count": 11,
     "metadata": {},
     "output_type": "execute_result"
    }
   ],
   "source": [
    "'''\n",
    "data_new = data['data'] #getting just the data \n",
    "rows = len(data_new)\n",
    "print ('ACLED API returned {} rows'.format(rows))\n",
    "'''"
   ]
  },
  {
   "cell_type": "code",
   "execution_count": 12,
   "metadata": {},
   "outputs": [
    {
     "data": {
      "text/plain": [
       "'\\nacled_data = pd.DataFrame.from_dict(data_new)\\nacled_data\\n'"
      ]
     },
     "execution_count": 12,
     "metadata": {},
     "output_type": "execute_result"
    }
   ],
   "source": [
    "#convert it into an pandas data frame\n",
    "'''\n",
    "acled_data = pd.DataFrame.from_dict(data_new)\n",
    "acled_data\n",
    "'''"
   ]
  },
  {
   "cell_type": "code",
   "execution_count": 13,
   "metadata": {},
   "outputs": [
    {
     "name": "stderr",
     "output_type": "stream",
     "text": [
      "C:\\Users\\Alex\\anaconda3\\lib\\site-packages\\tpot\\builtins\\__init__.py:36: UserWarning: Warning: optional dependency `torch` is not available. - skipping import of NN models.\n",
      "  warnings.warn(\"Warning: optional dependency `torch` is not available. - skipping import of NN models.\")\n"
     ]
    }
   ],
   "source": [
    "#Do all necessary Pacakge Imports\n",
    "from imports import *"
   ]
  },
  {
   "cell_type": "code",
   "execution_count": 14,
   "metadata": {},
   "outputs": [],
   "source": [
    "#Create a dataHandler class for our dataframe \n",
    "data = dh()"
   ]
  },
  {
   "cell_type": "code",
   "execution_count": 15,
   "metadata": {},
   "outputs": [],
   "source": [
    "#Get Data for crisis in asia and southern asia\n",
    "# Data Range: 1997 to March 2021\n",
    "southern_asia_df = data.filter_data(region=['South Asia', 'Southeast Asia'])\n",
    "asia_df = data.filter_data(region=['Middle East', 'South Asia', 'Southeast Asia'])\n",
    "\n",
    "#Get Data for crisis in asia and southern asia caused by rebel groups\n",
    "asia_rebel_groups_df = data.filter_data(region=['Middle East', 'South Asia', 'Southeast Asia'], rebel_groups=True)\n",
    "southern_asia_rebel_groups_df = data.filter_data(region=['South Asia'], rebel_groups=True)"
   ]
  },
  {
   "cell_type": "code",
   "execution_count": 16,
   "metadata": {},
   "outputs": [
    {
     "data": {
      "text/html": [
       "<div>\n",
       "<style scoped>\n",
       "    .dataframe tbody tr th:only-of-type {\n",
       "        vertical-align: middle;\n",
       "    }\n",
       "\n",
       "    .dataframe tbody tr th {\n",
       "        vertical-align: top;\n",
       "    }\n",
       "\n",
       "    .dataframe thead th {\n",
       "        text-align: right;\n",
       "    }\n",
       "</style>\n",
       "<table border=\"1\" class=\"dataframe\">\n",
       "  <thead>\n",
       "    <tr style=\"text-align: right;\">\n",
       "      <th></th>\n",
       "      <th>data_id</th>\n",
       "      <th>iso3</th>\n",
       "      <th>iso</th>\n",
       "      <th>event_id_cnty</th>\n",
       "      <th>event_id_no_cnty</th>\n",
       "      <th>event_date</th>\n",
       "      <th>year</th>\n",
       "      <th>time_precision</th>\n",
       "      <th>event_type</th>\n",
       "      <th>sub_event_type</th>\n",
       "      <th>...</th>\n",
       "      <th>admin3</th>\n",
       "      <th>location</th>\n",
       "      <th>latitude</th>\n",
       "      <th>longitude</th>\n",
       "      <th>geo_precision</th>\n",
       "      <th>source</th>\n",
       "      <th>source_scale</th>\n",
       "      <th>notes</th>\n",
       "      <th>fatalities</th>\n",
       "      <th>timestamp</th>\n",
       "    </tr>\n",
       "  </thead>\n",
       "  <tbody>\n",
       "    <tr>\n",
       "      <th>0</th>\n",
       "      <td>479055</td>\n",
       "      <td>50</td>\n",
       "      <td>50</td>\n",
       "      <td>BGD7240</td>\n",
       "      <td>7240</td>\n",
       "      <td>01-January-2010</td>\n",
       "      <td>2010</td>\n",
       "      <td>1</td>\n",
       "      <td>Riots</td>\n",
       "      <td>Mob violence</td>\n",
       "      <td>...</td>\n",
       "      <td>Patuakhali</td>\n",
       "      <td>Patuakhali</td>\n",
       "      <td>22.368</td>\n",
       "      <td>90.346</td>\n",
       "      <td>2</td>\n",
       "      <td>Daily Star (Bangladesh)</td>\n",
       "      <td>National</td>\n",
       "      <td>On 1 Jan 2010, in Patuakhali district (Barisal...</td>\n",
       "      <td>0</td>\n",
       "      <td>1563366746</td>\n",
       "    </tr>\n",
       "    <tr>\n",
       "      <th>1</th>\n",
       "      <td>479056</td>\n",
       "      <td>50</td>\n",
       "      <td>50</td>\n",
       "      <td>BGD7242</td>\n",
       "      <td>7242</td>\n",
       "      <td>01-January-2010</td>\n",
       "      <td>2010</td>\n",
       "      <td>2</td>\n",
       "      <td>Riots</td>\n",
       "      <td>Violent demonstration</td>\n",
       "      <td>...</td>\n",
       "      <td>Rajshahi</td>\n",
       "      <td>Rajshahi</td>\n",
       "      <td>24.374</td>\n",
       "      <td>88.601</td>\n",
       "      <td>1</td>\n",
       "      <td>Daily Star (Bangladesh)</td>\n",
       "      <td>National</td>\n",
       "      <td>Assumed on 1 Jan 2010, in Rajshahi city (Rajsh...</td>\n",
       "      <td>0</td>\n",
       "      <td>1563366746</td>\n",
       "    </tr>\n",
       "    <tr>\n",
       "      <th>2</th>\n",
       "      <td>479057</td>\n",
       "      <td>50</td>\n",
       "      <td>50</td>\n",
       "      <td>BGD7243</td>\n",
       "      <td>7243</td>\n",
       "      <td>01-January-2010</td>\n",
       "      <td>2010</td>\n",
       "      <td>1</td>\n",
       "      <td>Riots</td>\n",
       "      <td>Mob violence</td>\n",
       "      <td>...</td>\n",
       "      <td>Shailkupa</td>\n",
       "      <td>Shailkupa</td>\n",
       "      <td>23.684</td>\n",
       "      <td>89.242</td>\n",
       "      <td>2</td>\n",
       "      <td>Daily Star (Bangladesh)</td>\n",
       "      <td>National</td>\n",
       "      <td>On 1 Jan 2010, in Shailokupa upazila (Jhenaida...</td>\n",
       "      <td>0</td>\n",
       "      <td>1563366746</td>\n",
       "    </tr>\n",
       "    <tr>\n",
       "      <th>3</th>\n",
       "      <td>479058</td>\n",
       "      <td>50</td>\n",
       "      <td>50</td>\n",
       "      <td>BGD7246</td>\n",
       "      <td>7246</td>\n",
       "      <td>01-January-2010</td>\n",
       "      <td>2010</td>\n",
       "      <td>1</td>\n",
       "      <td>Riots</td>\n",
       "      <td>Mob violence</td>\n",
       "      <td>...</td>\n",
       "      <td>Morrelganj</td>\n",
       "      <td>Morrelganj</td>\n",
       "      <td>22.438</td>\n",
       "      <td>89.851</td>\n",
       "      <td>2</td>\n",
       "      <td>Daily Star (Bangladesh)</td>\n",
       "      <td>National</td>\n",
       "      <td>On 1 Jan 2010, in Morelganj upazila (Bagerhat,...</td>\n",
       "      <td>0</td>\n",
       "      <td>1563366746</td>\n",
       "    </tr>\n",
       "    <tr>\n",
       "      <th>4</th>\n",
       "      <td>479059</td>\n",
       "      <td>50</td>\n",
       "      <td>50</td>\n",
       "      <td>BGD7247</td>\n",
       "      <td>7247</td>\n",
       "      <td>01-January-2010</td>\n",
       "      <td>2010</td>\n",
       "      <td>1</td>\n",
       "      <td>Riots</td>\n",
       "      <td>Mob violence</td>\n",
       "      <td>...</td>\n",
       "      <td>Kachua</td>\n",
       "      <td>Kachua</td>\n",
       "      <td>22.653</td>\n",
       "      <td>89.885</td>\n",
       "      <td>2</td>\n",
       "      <td>Daily Star (Bangladesh)</td>\n",
       "      <td>National</td>\n",
       "      <td>On 1 Jan 2010, in Kachua upazila (Bagerhat, Kh...</td>\n",
       "      <td>0</td>\n",
       "      <td>1563366746</td>\n",
       "    </tr>\n",
       "    <tr>\n",
       "      <th>...</th>\n",
       "      <td>...</td>\n",
       "      <td>...</td>\n",
       "      <td>...</td>\n",
       "      <td>...</td>\n",
       "      <td>...</td>\n",
       "      <td>...</td>\n",
       "      <td>...</td>\n",
       "      <td>...</td>\n",
       "      <td>...</td>\n",
       "      <td>...</td>\n",
       "      <td>...</td>\n",
       "      <td>...</td>\n",
       "      <td>...</td>\n",
       "      <td>...</td>\n",
       "      <td>...</td>\n",
       "      <td>...</td>\n",
       "      <td>...</td>\n",
       "      <td>...</td>\n",
       "      <td>...</td>\n",
       "      <td>...</td>\n",
       "      <td>...</td>\n",
       "    </tr>\n",
       "    <tr>\n",
       "      <th>229216</th>\n",
       "      <td>708271</td>\n",
       "      <td>764</td>\n",
       "      <td>764</td>\n",
       "      <td>THA9032</td>\n",
       "      <td>9032</td>\n",
       "      <td>12-March-2021</td>\n",
       "      <td>2021</td>\n",
       "      <td>1</td>\n",
       "      <td>Strategic developments</td>\n",
       "      <td>Looting/property destruction</td>\n",
       "      <td>...</td>\n",
       "      <td>Tha Sap</td>\n",
       "      <td>Sakho</td>\n",
       "      <td>6.559</td>\n",
       "      <td>101.263</td>\n",
       "      <td>1</td>\n",
       "      <td>Isranews Agency</td>\n",
       "      <td>National</td>\n",
       "      <td>Property destruction: On 12 March 2021, Malay ...</td>\n",
       "      <td>0</td>\n",
       "      <td>1615920638</td>\n",
       "    </tr>\n",
       "    <tr>\n",
       "      <th>229217</th>\n",
       "      <td>708272</td>\n",
       "      <td>764</td>\n",
       "      <td>764</td>\n",
       "      <td>THA9028</td>\n",
       "      <td>9028</td>\n",
       "      <td>12-March-2021</td>\n",
       "      <td>2021</td>\n",
       "      <td>1</td>\n",
       "      <td>Protests</td>\n",
       "      <td>Peaceful protest</td>\n",
       "      <td>...</td>\n",
       "      <td>No actor 2</td>\n",
       "      <td>Khon Kaen</td>\n",
       "      <td>16.447</td>\n",
       "      <td>102.833</td>\n",
       "      <td>1</td>\n",
       "      <td>Matichon</td>\n",
       "      <td>National</td>\n",
       "      <td>On 12 March 2021, a royalist group staged a de...</td>\n",
       "      <td>0</td>\n",
       "      <td>1615920638</td>\n",
       "    </tr>\n",
       "    <tr>\n",
       "      <th>229218</th>\n",
       "      <td>708273</td>\n",
       "      <td>764</td>\n",
       "      <td>764</td>\n",
       "      <td>THA9025</td>\n",
       "      <td>9025</td>\n",
       "      <td>12-March-2021</td>\n",
       "      <td>2021</td>\n",
       "      <td>1</td>\n",
       "      <td>Protests</td>\n",
       "      <td>Peaceful protest</td>\n",
       "      <td>...</td>\n",
       "      <td>No actor 2</td>\n",
       "      <td>Bangkok-Lak Si</td>\n",
       "      <td>13.882</td>\n",
       "      <td>100.569</td>\n",
       "      <td>1</td>\n",
       "      <td>Prachatai</td>\n",
       "      <td>National</td>\n",
       "      <td>On 12 March 2021, twenty activists and family ...</td>\n",
       "      <td>0</td>\n",
       "      <td>1615920638</td>\n",
       "    </tr>\n",
       "    <tr>\n",
       "      <th>229219</th>\n",
       "      <td>708274</td>\n",
       "      <td>764</td>\n",
       "      <td>764</td>\n",
       "      <td>THA9024</td>\n",
       "      <td>9024</td>\n",
       "      <td>12-March-2021</td>\n",
       "      <td>2021</td>\n",
       "      <td>1</td>\n",
       "      <td>Protests</td>\n",
       "      <td>Peaceful protest</td>\n",
       "      <td>...</td>\n",
       "      <td>No actor 2</td>\n",
       "      <td>Bangkok-Dusit</td>\n",
       "      <td>13.778</td>\n",
       "      <td>100.520</td>\n",
       "      <td>1</td>\n",
       "      <td>Siam Rath</td>\n",
       "      <td>National</td>\n",
       "      <td>On 12 March 2021, Karen villagers and members ...</td>\n",
       "      <td>0</td>\n",
       "      <td>1615920638</td>\n",
       "    </tr>\n",
       "    <tr>\n",
       "      <th>229220</th>\n",
       "      <td>708275</td>\n",
       "      <td>764</td>\n",
       "      <td>764</td>\n",
       "      <td>THA9027</td>\n",
       "      <td>9027</td>\n",
       "      <td>12-March-2021</td>\n",
       "      <td>2021</td>\n",
       "      <td>1</td>\n",
       "      <td>Protests</td>\n",
       "      <td>Peaceful protest</td>\n",
       "      <td>...</td>\n",
       "      <td>No actor 2</td>\n",
       "      <td>Bangkok-Ratchathewi</td>\n",
       "      <td>13.759</td>\n",
       "      <td>100.534</td>\n",
       "      <td>1</td>\n",
       "      <td>Voice TV</td>\n",
       "      <td>National</td>\n",
       "      <td>On 12 March 2021, protesters from the People's...</td>\n",
       "      <td>0</td>\n",
       "      <td>1615920638</td>\n",
       "    </tr>\n",
       "  </tbody>\n",
       "</table>\n",
       "<p>229221 rows × 30 columns</p>\n",
       "</div>"
      ],
      "text/plain": [
       "        data_id  iso3  iso event_id_cnty  event_id_no_cnty       event_date  \\\n",
       "0        479055    50   50       BGD7240              7240  01-January-2010   \n",
       "1        479056    50   50       BGD7242              7242  01-January-2010   \n",
       "2        479057    50   50       BGD7243              7243  01-January-2010   \n",
       "3        479058    50   50       BGD7246              7246  01-January-2010   \n",
       "4        479059    50   50       BGD7247              7247  01-January-2010   \n",
       "...         ...   ...  ...           ...               ...              ...   \n",
       "229216   708271   764  764       THA9032              9032    12-March-2021   \n",
       "229217   708272   764  764       THA9028              9028    12-March-2021   \n",
       "229218   708273   764  764       THA9025              9025    12-March-2021   \n",
       "229219   708274   764  764       THA9024              9024    12-March-2021   \n",
       "229220   708275   764  764       THA9027              9027    12-March-2021   \n",
       "\n",
       "        year  time_precision              event_type  \\\n",
       "0       2010               1                   Riots   \n",
       "1       2010               2                   Riots   \n",
       "2       2010               1                   Riots   \n",
       "3       2010               1                   Riots   \n",
       "4       2010               1                   Riots   \n",
       "...      ...             ...                     ...   \n",
       "229216  2021               1  Strategic developments   \n",
       "229217  2021               1                Protests   \n",
       "229218  2021               1                Protests   \n",
       "229219  2021               1                Protests   \n",
       "229220  2021               1                Protests   \n",
       "\n",
       "                      sub_event_type  ...      admin3             location  \\\n",
       "0                       Mob violence  ...  Patuakhali           Patuakhali   \n",
       "1              Violent demonstration  ...    Rajshahi             Rajshahi   \n",
       "2                       Mob violence  ...   Shailkupa            Shailkupa   \n",
       "3                       Mob violence  ...  Morrelganj           Morrelganj   \n",
       "4                       Mob violence  ...      Kachua               Kachua   \n",
       "...                              ...  ...         ...                  ...   \n",
       "229216  Looting/property destruction  ...     Tha Sap                Sakho   \n",
       "229217              Peaceful protest  ...  No actor 2            Khon Kaen   \n",
       "229218              Peaceful protest  ...  No actor 2       Bangkok-Lak Si   \n",
       "229219              Peaceful protest  ...  No actor 2        Bangkok-Dusit   \n",
       "229220              Peaceful protest  ...  No actor 2  Bangkok-Ratchathewi   \n",
       "\n",
       "        latitude longitude  geo_precision                   source  \\\n",
       "0         22.368    90.346              2  Daily Star (Bangladesh)   \n",
       "1         24.374    88.601              1  Daily Star (Bangladesh)   \n",
       "2         23.684    89.242              2  Daily Star (Bangladesh)   \n",
       "3         22.438    89.851              2  Daily Star (Bangladesh)   \n",
       "4         22.653    89.885              2  Daily Star (Bangladesh)   \n",
       "...          ...       ...            ...                      ...   \n",
       "229216     6.559   101.263              1          Isranews Agency   \n",
       "229217    16.447   102.833              1                 Matichon   \n",
       "229218    13.882   100.569              1                Prachatai   \n",
       "229219    13.778   100.520              1                Siam Rath   \n",
       "229220    13.759   100.534              1                 Voice TV   \n",
       "\n",
       "       source_scale                                              notes  \\\n",
       "0          National  On 1 Jan 2010, in Patuakhali district (Barisal...   \n",
       "1          National  Assumed on 1 Jan 2010, in Rajshahi city (Rajsh...   \n",
       "2          National  On 1 Jan 2010, in Shailokupa upazila (Jhenaida...   \n",
       "3          National  On 1 Jan 2010, in Morelganj upazila (Bagerhat,...   \n",
       "4          National  On 1 Jan 2010, in Kachua upazila (Bagerhat, Kh...   \n",
       "...             ...                                                ...   \n",
       "229216     National  Property destruction: On 12 March 2021, Malay ...   \n",
       "229217     National  On 12 March 2021, a royalist group staged a de...   \n",
       "229218     National  On 12 March 2021, twenty activists and family ...   \n",
       "229219     National  On 12 March 2021, Karen villagers and members ...   \n",
       "229220     National  On 12 March 2021, protesters from the People's...   \n",
       "\n",
       "       fatalities   timestamp  \n",
       "0               0  1563366746  \n",
       "1               0  1563366746  \n",
       "2               0  1563366746  \n",
       "3               0  1563366746  \n",
       "4               0  1563366746  \n",
       "...           ...         ...  \n",
       "229216          0  1615920638  \n",
       "229217          0  1615920638  \n",
       "229218          0  1615920638  \n",
       "229219          0  1615920638  \n",
       "229220          0  1615920638  \n",
       "\n",
       "[229221 rows x 30 columns]"
      ]
     },
     "execution_count": 16,
     "metadata": {},
     "output_type": "execute_result"
    }
   ],
   "source": [
    "southern_asia_df"
   ]
  },
  {
   "cell_type": "code",
   "execution_count": 17,
   "metadata": {},
   "outputs": [
    {
     "data": {
      "text/html": [
       "<div>\n",
       "<style scoped>\n",
       "    .dataframe tbody tr th:only-of-type {\n",
       "        vertical-align: middle;\n",
       "    }\n",
       "\n",
       "    .dataframe tbody tr th {\n",
       "        vertical-align: top;\n",
       "    }\n",
       "\n",
       "    .dataframe thead th {\n",
       "        text-align: right;\n",
       "    }\n",
       "</style>\n",
       "<table border=\"1\" class=\"dataframe\">\n",
       "  <thead>\n",
       "    <tr style=\"text-align: right;\">\n",
       "      <th></th>\n",
       "      <th>data_id</th>\n",
       "      <th>iso3</th>\n",
       "      <th>iso</th>\n",
       "      <th>event_id_cnty</th>\n",
       "      <th>event_id_no_cnty</th>\n",
       "      <th>event_date</th>\n",
       "      <th>year</th>\n",
       "      <th>time_precision</th>\n",
       "      <th>event_type</th>\n",
       "      <th>sub_event_type</th>\n",
       "      <th>...</th>\n",
       "      <th>admin3</th>\n",
       "      <th>location</th>\n",
       "      <th>latitude</th>\n",
       "      <th>longitude</th>\n",
       "      <th>geo_precision</th>\n",
       "      <th>source</th>\n",
       "      <th>source_scale</th>\n",
       "      <th>notes</th>\n",
       "      <th>fatalities</th>\n",
       "      <th>timestamp</th>\n",
       "    </tr>\n",
       "  </thead>\n",
       "  <tbody>\n",
       "    <tr>\n",
       "      <th>82</th>\n",
       "      <td>24522</td>\n",
       "      <td>364</td>\n",
       "      <td>364</td>\n",
       "      <td>IRN7158</td>\n",
       "      <td>7158</td>\n",
       "      <td>30-August-2020</td>\n",
       "      <td>2020</td>\n",
       "      <td>1</td>\n",
       "      <td>Explosions/Remote violence</td>\n",
       "      <td>Shelling/artillery/missile attack</td>\n",
       "      <td>...</td>\n",
       "      <td>Central</td>\n",
       "      <td>Maku</td>\n",
       "      <td>39.295</td>\n",
       "      <td>44.498</td>\n",
       "      <td>2</td>\n",
       "      <td>Hengaw</td>\n",
       "      <td>Regional</td>\n",
       "      <td>On 30 August 2020, Turkish artillery, after ge...</td>\n",
       "      <td>0</td>\n",
       "      <td>1599494153</td>\n",
       "    </tr>\n",
       "    <tr>\n",
       "      <th>95</th>\n",
       "      <td>26300</td>\n",
       "      <td>368</td>\n",
       "      <td>368</td>\n",
       "      <td>IRQ15169</td>\n",
       "      <td>15169</td>\n",
       "      <td>01-January-2016</td>\n",
       "      <td>2016</td>\n",
       "      <td>1</td>\n",
       "      <td>Explosions/Remote violence</td>\n",
       "      <td>Shelling/artillery/missile attack</td>\n",
       "      <td>...</td>\n",
       "      <td>No actor 2</td>\n",
       "      <td>Nahiyat al Amiriyah</td>\n",
       "      <td>33.172</td>\n",
       "      <td>43.860</td>\n",
       "      <td>1</td>\n",
       "      <td>Al Maloomah</td>\n",
       "      <td>National</td>\n",
       "      <td>On Jan 01, IS militants targeted residential a...</td>\n",
       "      <td>10</td>\n",
       "      <td>1567462133</td>\n",
       "    </tr>\n",
       "    <tr>\n",
       "      <th>96</th>\n",
       "      <td>26301</td>\n",
       "      <td>368</td>\n",
       "      <td>368</td>\n",
       "      <td>IRQ6805</td>\n",
       "      <td>6805</td>\n",
       "      <td>01-January-2016</td>\n",
       "      <td>2016</td>\n",
       "      <td>1</td>\n",
       "      <td>Battles</td>\n",
       "      <td>Armed clash</td>\n",
       "      <td>...</td>\n",
       "      <td>No actor 2</td>\n",
       "      <td>Sinjar</td>\n",
       "      <td>36.295</td>\n",
       "      <td>41.893</td>\n",
       "      <td>2</td>\n",
       "      <td>Gali Kurdistan TV</td>\n",
       "      <td>Subnational</td>\n",
       "      <td>On Jan 01, Peshmerga forces repelled an attack...</td>\n",
       "      <td>0</td>\n",
       "      <td>1567462150</td>\n",
       "    </tr>\n",
       "  </tbody>\n",
       "</table>\n",
       "<p>3 rows × 30 columns</p>\n",
       "</div>"
      ],
      "text/plain": [
       "    data_id  iso3  iso event_id_cnty  event_id_no_cnty       event_date  year  \\\n",
       "82    24522   364  364       IRN7158              7158   30-August-2020  2020   \n",
       "95    26300   368  368      IRQ15169             15169  01-January-2016  2016   \n",
       "96    26301   368  368       IRQ6805              6805  01-January-2016  2016   \n",
       "\n",
       "    time_precision                  event_type  \\\n",
       "82               1  Explosions/Remote violence   \n",
       "95               1  Explosions/Remote violence   \n",
       "96               1                     Battles   \n",
       "\n",
       "                       sub_event_type  ...      admin3             location  \\\n",
       "82  Shelling/artillery/missile attack  ...     Central                 Maku   \n",
       "95  Shelling/artillery/missile attack  ...  No actor 2  Nahiyat al Amiriyah   \n",
       "96                        Armed clash  ...  No actor 2               Sinjar   \n",
       "\n",
       "    latitude longitude  geo_precision             source source_scale  \\\n",
       "82    39.295    44.498              2             Hengaw     Regional   \n",
       "95    33.172    43.860              1        Al Maloomah     National   \n",
       "96    36.295    41.893              2  Gali Kurdistan TV  Subnational   \n",
       "\n",
       "                                                notes fatalities   timestamp  \n",
       "82  On 30 August 2020, Turkish artillery, after ge...          0  1599494153  \n",
       "95  On Jan 01, IS militants targeted residential a...         10  1567462133  \n",
       "96  On Jan 01, Peshmerga forces repelled an attack...          0  1567462150  \n",
       "\n",
       "[3 rows x 30 columns]"
      ]
     },
     "execution_count": 17,
     "metadata": {},
     "output_type": "execute_result"
    }
   ],
   "source": [
    "asia_rebel_groups_df[:3]"
   ]
  },
  {
   "cell_type": "markdown",
   "metadata": {},
   "source": [
    "### Variables of Interest\n",
    " \n",
    "Fatalities, Event Type, Sub Event Type, Actor1, Inter1, Actor2, Inter2, Interaction, Region, Country, Admin1, Admin2, Admin3, Location, latitude, and longitude.\n",
    "\n",
    "To better understand the predictors look at documentation in Understanding_data folder.\n",
    "\n",
    "### Types of Actors involved in Crisis Dataset\n",
    "State Forces, Rebel Groups, Political Militias, Identity Militias, Rioters, Protestors, Civilian, External/Other Forces\n",
    "\n",
    "### Crisis Data Initial Exploration for Asia\n",
    "Crisis to Fatalities per Country caused by All Actors[1997 to March 2021]"
   ]
  },
  {
   "cell_type": "markdown",
   "metadata": {},
   "source": [
    "### Does this comport with what is the in the documentation? "
   ]
  },
  {
   "cell_type": "code",
   "execution_count": 18,
   "metadata": {},
   "outputs": [
    {
     "data": {
      "image/png": "[encoded data removed]",
      "text/plain": [
       "<Figure size 1440x720 with 1 Axes>"
      ]
     },
     "metadata": {
      "needs_background": "light"
     },
     "output_type": "display_data"
    }
   ],
   "source": [
    "#Crisis to Fatalities per Event Type caused by All Actors[1997-2019]\n",
    "\n",
    "data.crisis_to_fatalities_graph(asia_df, type='event_paired')"
   ]
  },
  {
   "cell_type": "raw",
   "metadata": {},
   "source": [
    "Number of Crisis caused by all Actors per Country[1997-March 2021]"
   ]
  },
  {
   "cell_type": "code",
   "execution_count": null,
   "metadata": {},
   "outputs": [],
   "source": [
    "#data.crisis_to_fatalities_graph(asia_df, type='crisis map') # name 'geopandas' is not defined"
   ]
  },
  {
   "cell_type": "code",
   "execution_count": 19,
   "metadata": {},
   "outputs": [
    {
     "data": {
      "image/png": "[encoded data removed]",
      "text/plain": [
       "<Figure size 1440x720 with 1 Axes>"
      ]
     },
     "metadata": {
      "needs_background": "light"
     },
     "output_type": "display_data"
    }
   ],
   "source": [
    "#Crisis to Fatalities per Country caused by Rebel Groups[1997-2019]\n",
    "\n",
    "data.crisis_to_fatalities_graph(asia_rebel_groups_df, type='event_paired')"
   ]
  },
  {
   "cell_type": "code",
   "execution_count": null,
   "metadata": {},
   "outputs": [],
   "source": [
    "#data.crisis_to_fatalities_graph(asia_rebel_groups_df, type='crisis map') # name 'geopandas' is not defined"
   ]
  },
  {
   "cell_type": "markdown",
   "metadata": {},
   "source": [
    "Number of Crisis caused by Rebel Groups per Country[1997-March 2021]"
   ]
  },
  {
   "cell_type": "code",
   "execution_count": 20,
   "metadata": {},
   "outputs": [
    {
     "data": {
      "image/png": "[encoded data removed]",
      "text/plain": [
       "<Figure size 1440x720 with 1 Axes>"
      ]
     },
     "metadata": {
      "needs_background": "light"
     },
     "output_type": "display_data"
    }
   ],
   "source": [
    "data.crisis_to_fatalities_graph(asia_df, type='event_paired')"
   ]
  },
  {
   "cell_type": "markdown",
   "metadata": {},
   "source": [
    "Crisis to Fatalities per Country caused by Rebel Groups[2017-2019]"
   ]
  },
  {
   "cell_type": "code",
   "execution_count": 21,
   "metadata": {},
   "outputs": [
    {
     "data": {
      "image/png": "[encoded data removed]",
      "text/plain": [
       "<Figure size 1440x720 with 1 Axes>"
      ]
     },
     "metadata": {
      "needs_background": "light"
     },
     "output_type": "display_data"
    }
   ],
   "source": [
    "data.crisis_to_fatalities_graph(asia_rebel_groups_df, type='event_paired')"
   ]
  }
 ],
 "metadata": {
  "kernelspec": {
   "display_name": "Python 3",
   "language": "python",
   "name": "python3"
  },
  "language_info": {
   "codemirror_mode": {
    "name": "ipython",
    "version": 3
   },
   "file_extension": ".py",
   "mimetype": "text/x-python",
   "name": "python",
   "nbconvert_exporter": "python",
   "pygments_lexer": "ipython3",
   "version": "3.8.3"
  }
 },
 "nbformat": 4,
 "nbformat_minor": 4
}
